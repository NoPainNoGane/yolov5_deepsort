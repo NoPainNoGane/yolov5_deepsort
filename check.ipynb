{
 "cells": [
  {
   "cell_type": "code",
   "execution_count": 1,
   "metadata": {},
   "outputs": [],
   "source": [
    "import numpy as np\n",
    "import scipy.interpolate as interp\n",
    "\n",
    "def interpolate_polyline(polyline, num_points):\n",
    "    duplicates = []\n",
    "    for i in range(1, len(polyline)):\n",
    "        if np.allclose(polyline[i], polyline[i-1]):\n",
    "            duplicates.append(i)\n",
    "    if duplicates:\n",
    "        polyline = np.delete(polyline, duplicates, axis=0)\n",
    "    tck, u = interp.splprep(polyline.T, s=0)\n",
    "    u = np.linspace(0.0, 1.0, num_points)\n",
    "    return np.column_stack(interp.splev(u, tck))"
   ]
  },
  {
   "cell_type": "code",
   "execution_count": 1,
   "metadata": {},
   "outputs": [],
   "source": [
    "import numpy as np\n",
    "import pandas as pd \n",
    "import gmplot\n",
    "from pyproj import Proj, transform\n",
    "import matplotlib.pyplot as plt\n",
    "from geographiclib.geodesic import Geodesic"
   ]
  },
  {
   "cell_type": "code",
   "execution_count": 6,
   "metadata": {},
   "outputs": [
    {
     "ename": "ValueError",
     "evalue": "not enough values to unpack (expected 2, got 1)",
     "output_type": "error",
     "traceback": [
      "\u001b[1;31m---------------------------------------------------------------------------\u001b[0m",
      "\u001b[1;31mValueError\u001b[0m                                Traceback (most recent call last)",
      "\u001b[1;32me:\\yolov5_v2\\yolov5\\check.ipynb Cell 2\u001b[0m line \u001b[0;36m1\n\u001b[1;32m----> <a href='vscode-notebook-cell:/e%3A/yolov5_v2/yolov5/check.ipynb#W1sZmlsZQ%3D%3D?line=0'>1</a>\u001b[0m interpolate_polyline(np\u001b[39m.\u001b[39;49marray([\u001b[39m54.72534491306931\u001b[39;49m, \u001b[39m55.94083790905259\u001b[39;49m, \u001b[39m54.72534489661149\u001b[39;49m, \u001b[39m55.94083741111973\u001b[39;49m]), \u001b[39m2\u001b[39;49m)\n",
      "\u001b[1;32me:\\yolov5_v2\\yolov5\\check.ipynb Cell 2\u001b[0m line \u001b[0;36m1\n\u001b[0;32m      <a href='vscode-notebook-cell:/e%3A/yolov5_v2/yolov5/check.ipynb#W1sZmlsZQ%3D%3D?line=8'>9</a>\u001b[0m \u001b[39mif\u001b[39;00m duplicates:\n\u001b[0;32m     <a href='vscode-notebook-cell:/e%3A/yolov5_v2/yolov5/check.ipynb#W1sZmlsZQ%3D%3D?line=9'>10</a>\u001b[0m     polyline \u001b[39m=\u001b[39m np\u001b[39m.\u001b[39mdelete(polyline, duplicates, axis\u001b[39m=\u001b[39m\u001b[39m0\u001b[39m)\n\u001b[1;32m---> <a href='vscode-notebook-cell:/e%3A/yolov5_v2/yolov5/check.ipynb#W1sZmlsZQ%3D%3D?line=10'>11</a>\u001b[0m tck, u \u001b[39m=\u001b[39m interp\u001b[39m.\u001b[39;49msplprep(polyline\u001b[39m.\u001b[39;49mT, s\u001b[39m=\u001b[39;49m\u001b[39m0\u001b[39;49m)\n\u001b[0;32m     <a href='vscode-notebook-cell:/e%3A/yolov5_v2/yolov5/check.ipynb#W1sZmlsZQ%3D%3D?line=11'>12</a>\u001b[0m u \u001b[39m=\u001b[39m np\u001b[39m.\u001b[39mlinspace(\u001b[39m0.0\u001b[39m, \u001b[39m1.0\u001b[39m, num_points)\n\u001b[0;32m     <a href='vscode-notebook-cell:/e%3A/yolov5_v2/yolov5/check.ipynb#W1sZmlsZQ%3D%3D?line=12'>13</a>\u001b[0m \u001b[39mreturn\u001b[39;00m np\u001b[39m.\u001b[39mcolumn_stack(interp\u001b[39m.\u001b[39msplev(u, tck))\n",
      "File \u001b[1;32mc:\\Users\\vital\\AppData\\Local\\Programs\\Python\\Python310\\lib\\site-packages\\scipy\\interpolate\\_fitpack_py.py:153\u001b[0m, in \u001b[0;36msplprep\u001b[1;34m(x, w, u, ub, ue, k, task, s, t, full_output, nest, per, quiet)\u001b[0m\n\u001b[0;32m     13\u001b[0m \u001b[39mdef\u001b[39;00m \u001b[39msplprep\u001b[39m(x, w\u001b[39m=\u001b[39m\u001b[39mNone\u001b[39;00m, u\u001b[39m=\u001b[39m\u001b[39mNone\u001b[39;00m, ub\u001b[39m=\u001b[39m\u001b[39mNone\u001b[39;00m, ue\u001b[39m=\u001b[39m\u001b[39mNone\u001b[39;00m, k\u001b[39m=\u001b[39m\u001b[39m3\u001b[39m, task\u001b[39m=\u001b[39m\u001b[39m0\u001b[39m, s\u001b[39m=\u001b[39m\u001b[39mNone\u001b[39;00m, t\u001b[39m=\u001b[39m\u001b[39mNone\u001b[39;00m,\n\u001b[0;32m     14\u001b[0m             full_output\u001b[39m=\u001b[39m\u001b[39m0\u001b[39m, nest\u001b[39m=\u001b[39m\u001b[39mNone\u001b[39;00m, per\u001b[39m=\u001b[39m\u001b[39m0\u001b[39m, quiet\u001b[39m=\u001b[39m\u001b[39m1\u001b[39m):\n\u001b[0;32m     15\u001b[0m \u001b[39m    \u001b[39m\u001b[39m\"\"\"\u001b[39;00m\n\u001b[0;32m     16\u001b[0m \u001b[39m    Find the B-spline representation of an N-D curve.\u001b[39;00m\n\u001b[0;32m     17\u001b[0m \n\u001b[1;32m   (...)\u001b[0m\n\u001b[0;32m    151\u001b[0m \n\u001b[0;32m    152\u001b[0m \u001b[39m    \"\"\"\u001b[39;00m\n\u001b[1;32m--> 153\u001b[0m     res \u001b[39m=\u001b[39m _impl\u001b[39m.\u001b[39;49msplprep(x, w, u, ub, ue, k, task, s, t, full_output, nest, per,\n\u001b[0;32m    154\u001b[0m                         quiet)\n\u001b[0;32m    155\u001b[0m     \u001b[39mreturn\u001b[39;00m res\n",
      "File \u001b[1;32mc:\\Users\\vital\\AppData\\Local\\Programs\\Python\\Python310\\lib\\site-packages\\scipy\\interpolate\\_fitpack_impl.py:219\u001b[0m, in \u001b[0;36msplprep\u001b[1;34m(x, w, u, ub, ue, k, task, s, t, full_output, nest, per, quiet)\u001b[0m\n\u001b[0;32m    215\u001b[0m     _parcur_cache \u001b[39m=\u001b[39m {\u001b[39m'\u001b[39m\u001b[39mt\u001b[39m\u001b[39m'\u001b[39m: array([], \u001b[39mfloat\u001b[39m), \u001b[39m'\u001b[39m\u001b[39mwrk\u001b[39m\u001b[39m'\u001b[39m: array([], \u001b[39mfloat\u001b[39m),\n\u001b[0;32m    216\u001b[0m                      \u001b[39m'\u001b[39m\u001b[39miwrk\u001b[39m\u001b[39m'\u001b[39m: array([], dfitpack_int), \u001b[39m'\u001b[39m\u001b[39mu\u001b[39m\u001b[39m'\u001b[39m: array([], \u001b[39mfloat\u001b[39m),\n\u001b[0;32m    217\u001b[0m                      \u001b[39m'\u001b[39m\u001b[39mub\u001b[39m\u001b[39m'\u001b[39m: \u001b[39m0\u001b[39m, \u001b[39m'\u001b[39m\u001b[39mue\u001b[39m\u001b[39m'\u001b[39m: \u001b[39m1\u001b[39m}\n\u001b[0;32m    218\u001b[0m x \u001b[39m=\u001b[39m atleast_1d(x)\n\u001b[1;32m--> 219\u001b[0m idim, m \u001b[39m=\u001b[39m x\u001b[39m.\u001b[39mshape\n\u001b[0;32m    220\u001b[0m \u001b[39mif\u001b[39;00m per:\n\u001b[0;32m    221\u001b[0m     \u001b[39mfor\u001b[39;00m i \u001b[39min\u001b[39;00m \u001b[39mrange\u001b[39m(idim):\n",
      "\u001b[1;31mValueError\u001b[0m: not enough values to unpack (expected 2, got 1)"
     ]
    }
   ],
   "source": [
    "interpolate_polyline(np.array([54.72534491306931, 55.94083790905259, 54.72534489661149, 55.94083741111973]), 2)"
   ]
  },
  {
   "cell_type": "code",
   "execution_count": 1,
   "metadata": {},
   "outputs": [],
   "source": [
    "import pandas as pd "
   ]
  },
  {
   "cell_type": "code",
   "execution_count": 19,
   "metadata": {},
   "outputs": [
    {
     "data": {
      "text/html": [
       "<div>\n",
       "<style scoped>\n",
       "    .dataframe tbody tr th:only-of-type {\n",
       "        vertical-align: middle;\n",
       "    }\n",
       "\n",
       "    .dataframe tbody tr th {\n",
       "        vertical-align: top;\n",
       "    }\n",
       "\n",
       "    .dataframe thead th {\n",
       "        text-align: right;\n",
       "    }\n",
       "</style>\n",
       "<table border=\"1\" class=\"dataframe\">\n",
       "  <thead>\n",
       "    <tr style=\"text-align: right;\">\n",
       "      <th></th>\n",
       "      <th>frame</th>\n",
       "      <th>id</th>\n",
       "      <th>x</th>\n",
       "      <th>y</th>\n",
       "      <th>lat</th>\n",
       "      <th>long</th>\n",
       "      <th>class</th>\n",
       "      <th>speed</th>\n",
       "      <th>lane</th>\n",
       "      <th>azimuth</th>\n",
       "    </tr>\n",
       "  </thead>\n",
       "  <tbody>\n",
       "    <tr>\n",
       "      <th>0</th>\n",
       "      <td>2</td>\n",
       "      <td>0</td>\n",
       "      <td>810</td>\n",
       "      <td>432</td>\n",
       "      <td>54.725260</td>\n",
       "      <td>55.940512</td>\n",
       "      <td>car</td>\n",
       "      <td>44.292206</td>\n",
       "      <td>4</td>\n",
       "      <td>15.561704</td>\n",
       "    </tr>\n",
       "    <tr>\n",
       "      <th>1</th>\n",
       "      <td>2</td>\n",
       "      <td>1</td>\n",
       "      <td>1250</td>\n",
       "      <td>656</td>\n",
       "      <td>54.725421</td>\n",
       "      <td>55.940728</td>\n",
       "      <td>car</td>\n",
       "      <td>39.667008</td>\n",
       "      <td>2</td>\n",
       "      <td>-167.336440</td>\n",
       "    </tr>\n",
       "    <tr>\n",
       "      <th>2</th>\n",
       "      <td>2</td>\n",
       "      <td>2</td>\n",
       "      <td>739</td>\n",
       "      <td>641</td>\n",
       "      <td>54.725256</td>\n",
       "      <td>55.940708</td>\n",
       "      <td>car</td>\n",
       "      <td>33.812618</td>\n",
       "      <td>1</td>\n",
       "      <td>-162.784433</td>\n",
       "    </tr>\n",
       "    <tr>\n",
       "      <th>3</th>\n",
       "      <td>2</td>\n",
       "      <td>3</td>\n",
       "      <td>1092</td>\n",
       "      <td>536</td>\n",
       "      <td>54.725376</td>\n",
       "      <td>55.940635</td>\n",
       "      <td>car</td>\n",
       "      <td>46.369826</td>\n",
       "      <td>3</td>\n",
       "      <td>29.197456</td>\n",
       "    </tr>\n",
       "    <tr>\n",
       "      <th>4</th>\n",
       "      <td>2</td>\n",
       "      <td>4</td>\n",
       "      <td>1392</td>\n",
       "      <td>519</td>\n",
       "      <td>54.725472</td>\n",
       "      <td>55.940633</td>\n",
       "      <td>car</td>\n",
       "      <td>29.218250</td>\n",
       "      <td>4</td>\n",
       "      <td>57.853177</td>\n",
       "    </tr>\n",
       "    <tr>\n",
       "      <th>...</th>\n",
       "      <td>...</td>\n",
       "      <td>...</td>\n",
       "      <td>...</td>\n",
       "      <td>...</td>\n",
       "      <td>...</td>\n",
       "      <td>...</td>\n",
       "      <td>...</td>\n",
       "      <td>...</td>\n",
       "      <td>...</td>\n",
       "      <td>...</td>\n",
       "    </tr>\n",
       "    <tr>\n",
       "      <th>978</th>\n",
       "      <td>211</td>\n",
       "      <td>27</td>\n",
       "      <td>1139</td>\n",
       "      <td>481</td>\n",
       "      <td>54.725393</td>\n",
       "      <td>55.940588</td>\n",
       "      <td>car</td>\n",
       "      <td>37.353626</td>\n",
       "      <td>4</td>\n",
       "      <td>22.389017</td>\n",
       "    </tr>\n",
       "    <tr>\n",
       "      <th>979</th>\n",
       "      <td>212</td>\n",
       "      <td>27</td>\n",
       "      <td>1127</td>\n",
       "      <td>480</td>\n",
       "      <td>54.725389</td>\n",
       "      <td>55.940587</td>\n",
       "      <td>car</td>\n",
       "      <td>43.220408</td>\n",
       "      <td>4</td>\n",
       "      <td>12.758184</td>\n",
       "    </tr>\n",
       "    <tr>\n",
       "      <th>980</th>\n",
       "      <td>213</td>\n",
       "      <td>27</td>\n",
       "      <td>1108</td>\n",
       "      <td>478</td>\n",
       "      <td>54.725382</td>\n",
       "      <td>55.940584</td>\n",
       "      <td>car</td>\n",
       "      <td>69.769470</td>\n",
       "      <td>4</td>\n",
       "      <td>14.619969</td>\n",
       "    </tr>\n",
       "    <tr>\n",
       "      <th>981</th>\n",
       "      <td>214</td>\n",
       "      <td>27</td>\n",
       "      <td>1100</td>\n",
       "      <td>475</td>\n",
       "      <td>54.725380</td>\n",
       "      <td>55.940580</td>\n",
       "      <td>car</td>\n",
       "      <td>34.645619</td>\n",
       "      <td>4</td>\n",
       "      <td>34.505721</td>\n",
       "    </tr>\n",
       "    <tr>\n",
       "      <th>982</th>\n",
       "      <td>215</td>\n",
       "      <td>27</td>\n",
       "      <td>1091</td>\n",
       "      <td>474</td>\n",
       "      <td>54.725376</td>\n",
       "      <td>55.940579</td>\n",
       "      <td>car</td>\n",
       "      <td>33.820535</td>\n",
       "      <td>4</td>\n",
       "      <td>15.181927</td>\n",
       "    </tr>\n",
       "  </tbody>\n",
       "</table>\n",
       "<p>983 rows × 10 columns</p>\n",
       "</div>"
      ],
      "text/plain": [
       "     frame  id     x    y        lat       long class      speed  lane  \\\n",
       "0        2   0   810  432  54.725260  55.940512   car  44.292206     4   \n",
       "1        2   1  1250  656  54.725421  55.940728   car  39.667008     2   \n",
       "2        2   2   739  641  54.725256  55.940708   car  33.812618     1   \n",
       "3        2   3  1092  536  54.725376  55.940635   car  46.369826     3   \n",
       "4        2   4  1392  519  54.725472  55.940633   car  29.218250     4   \n",
       "..     ...  ..   ...  ...        ...        ...   ...        ...   ...   \n",
       "978    211  27  1139  481  54.725393  55.940588   car  37.353626     4   \n",
       "979    212  27  1127  480  54.725389  55.940587   car  43.220408     4   \n",
       "980    213  27  1108  478  54.725382  55.940584   car  69.769470     4   \n",
       "981    214  27  1100  475  54.725380  55.940580   car  34.645619     4   \n",
       "982    215  27  1091  474  54.725376  55.940579   car  33.820535     4   \n",
       "\n",
       "        azimuth  \n",
       "0     15.561704  \n",
       "1   -167.336440  \n",
       "2   -162.784433  \n",
       "3     29.197456  \n",
       "4     57.853177  \n",
       "..          ...  \n",
       "978   22.389017  \n",
       "979   12.758184  \n",
       "980   14.619969  \n",
       "981   34.505721  \n",
       "982   15.181927  \n",
       "\n",
       "[983 rows x 10 columns]"
      ]
     },
     "execution_count": 19,
     "metadata": {},
     "output_type": "execute_result"
    }
   ],
   "source": [
    "df = pd.read_csv('out.csv')\n",
    "df "
   ]
  },
  {
   "cell_type": "code",
   "execution_count": 25,
   "metadata": {},
   "outputs": [
    {
     "data": {
      "text/plain": [
       "[54.72525566369869,\n",
       " 54.725259365688366,\n",
       " 54.72526215300604,\n",
       " 54.72526874895505,\n",
       " 54.72526874895505,\n",
       " 54.72527155812145,\n",
       " 54.72527451727057,\n",
       " 54.7252779856746,\n",
       " 54.72528079590055,\n",
       " 54.725284383628754,\n",
       " 54.72528759779642,\n",
       " 54.72529519452237,\n",
       " 54.72529798879831,\n",
       " 54.72530110425046,\n",
       " 54.725304315677626,\n",
       " 54.72530782682813,\n",
       " 54.72531058772526,\n",
       " 54.72531398415651,\n",
       " 54.7253173504997,\n",
       " 54.72532068715285,\n",
       " 54.725324071347096,\n",
       " 54.725327343445386,\n",
       " 54.72532995370851,\n",
       " 54.725334402682776,\n",
       " 54.725337328463546,\n",
       " 54.725341125090345,\n",
       " 54.72534426580537,\n",
       " 54.72534796696306,\n",
       " 54.72534827122408,\n",
       " 54.72535438555365,\n",
       " 54.72535828137797,\n",
       " 54.725361258035015,\n",
       " 54.72536449441452,\n",
       " 54.725367705296506,\n",
       " 54.72537147191272,\n",
       " 54.72537433877533,\n",
       " 54.72537718233465,\n",
       " 54.72538081391657,\n",
       " 54.72538387979305,\n",
       " 54.72538714419619,\n",
       " 54.72539042499382,\n",
       " 54.72539335728236,\n",
       " 54.72539608439449,\n",
       " 54.72539979728426,\n",
       " 54.72540162333679,\n",
       " 54.72540390938868,\n",
       " 54.72540699801693,\n",
       " 54.72540933781968,\n",
       " 54.72541337985707,\n",
       " 54.72541736756255,\n",
       " 54.7254215572386,\n",
       " 54.72542470430615,\n",
       " 54.72542835669316,\n",
       " 54.725431770067104,\n",
       " 54.72543410513956,\n",
       " 54.725439185096185,\n",
       " 54.72544311556883,\n",
       " 54.72544679769161,\n",
       " 54.72544937259697,\n",
       " 54.72545285582736,\n",
       " 54.72545285582736,\n",
       " 54.72545679724757]"
      ]
     },
     "execution_count": 25,
     "metadata": {},
     "output_type": "execute_result"
    }
   ],
   "source": [
    "latlong = df[['lat', 'long']][df['id'] == 2]\n",
    "list(latlong['lat'])"
   ]
  },
  {
   "cell_type": "code",
   "execution_count": 26,
   "metadata": {},
   "outputs": [
    {
     "name": "stderr",
     "output_type": "stream",
     "text": [
      "c:\\Users\\vital\\AppData\\Local\\Programs\\Python\\Python310\\lib\\site-packages\\gmplot\\color.py:194: UserWarning: Color '# FF0000' isn't supported.\n",
      "  warnings.warn(\"Color '%s' isn't supported.\" % color)\n"
     ]
    }
   ],
   "source": [
    "import gmplot\n",
    "  \n",
    "latitude_list = list(latlong['lat'])\n",
    "longitude_list = list(latlong['long'])\n",
    "  \n",
    "gmap3 = gmplot.GoogleMapPlotter(54.725351,\n",
    "                                55.940656, 20)\n",
    "  \n",
    "# scatter method of map object \n",
    "# scatter points on the google map\n",
    "gmap3.scatter( latitude_list, longitude_list, '# FF0000',\n",
    "                              size = 0.1, marker = False )\n",
    "  \n",
    "# Plot method Draw a line in\n",
    "# between given coordinates\n",
    "gmap3.plot(latitude_list, longitude_list, \n",
    "           'cornflowerblue', edge_width = 0.1)\n",
    "  \n",
    "gmap3.draw( \"E:\\yolov5_v2\\yolov5\\map13.html\" )"
   ]
  },
  {
   "cell_type": "code",
   "execution_count": 24,
   "metadata": {},
   "outputs": [
    {
     "name": "stderr",
     "output_type": "stream",
     "text": [
      "c:\\Users\\vital\\AppData\\Local\\Programs\\Python\\Python310\\lib\\site-packages\\gmplot\\color.py:194: UserWarning: Color '# FF0000' isn't supported.\n",
      "  warnings.warn(\"Color '%s' isn't supported.\" % color)\n"
     ]
    }
   ],
   "source": [
    "import gmplot\n",
    "  \n",
    "latitude_list = [54.725387, 54.725345]\n",
    "longitude_list = [55.940675, 55.940651]\n",
    "  \n",
    "gmap3 = gmplot.GoogleMapPlotter(54.725351,\n",
    "                                55.940656, 20)\n",
    "  \n",
    "# scatter method of map object \n",
    "# scatter points on the google map\n",
    "gmap3.scatter( latitude_list, longitude_list, '# FF0000',\n",
    "                              size = 0.1, marker = False )\n",
    "  \n",
    "# Plot method Draw a line in\n",
    "# between given coordinates\n",
    "gmap3.plot(latitude_list, longitude_list, \n",
    "           'cornflowerblue', edge_width = 0.1)\n",
    "  \n",
    "gmap3.draw( \"E:\\yolov5_v2\\yolov5\\map13.html\" )"
   ]
  },
  {
   "cell_type": "code",
   "execution_count": 148,
   "metadata": {},
   "outputs": [],
   "source": [
    "df = pd.read_csv('out.csv')\n",
    "df[df['id'] == 1].to_csv('guru.csv')"
   ]
  },
  {
   "cell_type": "code",
   "execution_count": 5,
   "metadata": {},
   "outputs": [
    {
     "data": {
      "text/plain": [
       "True"
      ]
     },
     "execution_count": 5,
     "metadata": {},
     "output_type": "execute_result"
    }
   ],
   "source": [
    "from gpx_converter import Converter\n",
    "\n",
    "Converter(input_file='guru.csv').csv_to_gpx(lats_colname='lat',\n",
    "                                                 longs_colname='long',\n",
    "                                                 output_file='your_input.gpx')"
   ]
  },
  {
   "cell_type": "code",
   "execution_count": 6,
   "metadata": {},
   "outputs": [
    {
     "name": "stdout",
     "output_type": "stream",
     "text": [
      "(0.0005025241092588942, 0.0004916068208264584)\n"
     ]
    },
    {
     "name": "stderr",
     "output_type": "stream",
     "text": [
      "c:\\Users\\vital\\AppData\\Local\\Programs\\Python\\Python310\\lib\\site-packages\\pyproj\\crs\\crs.py:141: FutureWarning: '+init=<authority>:<code>' syntax is deprecated. '<authority>:<code>' is the preferred initialization method. When making the change, be mindful of axis order changes: https://pyproj4.github.io/pyproj/stable/gotchas.html#axis-order-changes-in-proj-6\n",
      "  in_crs_string = _prepare_from_proj_string(in_crs_string)\n",
      "c:\\Users\\vital\\AppData\\Local\\Programs\\Python\\Python310\\lib\\site-packages\\pyproj\\crs\\crs.py:141: FutureWarning: '+init=<authority>:<code>' syntax is deprecated. '<authority>:<code>' is the preferred initialization method. When making the change, be mindful of axis order changes: https://pyproj4.github.io/pyproj/stable/gotchas.html#axis-order-changes-in-proj-6\n",
      "  in_crs_string = _prepare_from_proj_string(in_crs_string)\n",
      "C:\\Users\\vital\\AppData\\Local\\Temp\\ipykernel_20144\\746881272.py:2: FutureWarning: This function is deprecated. See: https://pyproj4.github.io/pyproj/stable/gotchas.html#upgrading-to-pyproj-2-from-pyproj-1\n",
      "  print(transform(Proj(init='epsg:3857'), Proj(init='epsg:4326'), 55.940727954043474, 54.72542096557289))  # longitude first, latitude second.\n"
     ]
    }
   ],
   "source": [
    "from pyproj import Proj, transform\n",
    "print(transform(Proj(init='epsg:3857'), Proj(init='epsg:4326'), 55.940727954043474, 54.72542096557289))  # longitude first, latitude second.\n",
    "# output (meters east of 0, meters north of 0): (-14314.651244750548, 6711665.883938471)"
   ]
  },
  {
   "cell_type": "code",
   "execution_count": 7,
   "metadata": {},
   "outputs": [
    {
     "data": {
      "text/plain": [
       "55.940746"
      ]
     },
     "execution_count": 7,
     "metadata": {},
     "output_type": "execute_result"
    }
   ],
   "source": [
    "round(55.940746385216976, 6)"
   ]
  },
  {
   "cell_type": "code",
   "execution_count": 154,
   "metadata": {},
   "outputs": [
    {
     "data": {
      "text/plain": [
       "(array([54.72537594, 54.72537185, 54.72536876, 54.72536321, 54.72535865,\n",
       "        54.72535511, 54.72535189, 54.72534793, 54.72534496, 54.7253413 ,\n",
       "        54.72533536, 54.72533125, 54.72532826, 54.72532367, 54.72532021,\n",
       "        54.72531667, 54.72531322, 54.72530917, 54.72530566, 54.72530178,\n",
       "        54.72529773, 54.72529526, 54.72529157, 54.72528825, 54.72528409,\n",
       "        54.72528071, 54.72527753, 54.72527721, 54.72526992, 54.7252662 ,\n",
       "        54.72526238, 54.72525778, 54.72525376, 54.72524956, 54.72524648,\n",
       "        54.72524325, 54.72524118, 54.72523717, 54.7252333 ]),\n",
       " array([55.94063498, 55.94063446, 55.94063322, 55.94062994, 55.94062848,\n",
       "        55.94062715, 55.94062498, 55.94062358, 55.94061962, 55.94061823,\n",
       "        55.94061562, 55.94061415, 55.94061374, 55.94061127, 55.94060986,\n",
       "        55.94060751, 55.94060702, 55.94060363, 55.94060313, 55.9405978 ,\n",
       "        55.94059624, 55.94059491, 55.94059339, 55.94059192, 55.94059032,\n",
       "        55.94058882, 55.94058536, 55.94058631, 55.94058319, 55.94057958,\n",
       "        55.94057898, 55.9405721 , 55.94057042, 55.94056765, 55.94056715,\n",
       "        55.94056556, 55.94056628, 55.94056562, 55.94056604]))"
      ]
     },
     "execution_count": 154,
     "metadata": {},
     "output_type": "execute_result"
    }
   ],
   "source": [
    "latlong = df[['lat', 'long']][df['id'] == 3].drop_duplicates()\n",
    "x = np.array(latlong['lat'])\n",
    "y = np.array(latlong['long'])\n",
    "x, y"
   ]
  },
  {
   "cell_type": "code",
   "execution_count": 43,
   "metadata": {},
   "outputs": [
    {
     "data": {
      "text/plain": [
       "array([ 0,  1,  2,  3,  4,  5,  6,  7,  8,  9, 10, 11, 12, 13, 14, 15, 16,\n",
       "       17, 18, 19, 20, 21, 22, 23, 24, 25, 26, 27, 28, 29], dtype=int64)"
      ]
     },
     "execution_count": 43,
     "metadata": {},
     "output_type": "execute_result"
    }
   ],
   "source": [
    "df['id'].unique()"
   ]
  },
  {
   "cell_type": "code",
   "execution_count": 150,
   "metadata": {},
   "outputs": [
    {
     "data": {
      "image/png": "[encoded data removed]",
      "text/plain": [
       "<Figure size 640x480 with 1 Axes>"
      ]
     },
     "metadata": {},
     "output_type": "display_data"
    }
   ],
   "source": [
    "plt.scatter(x, y)\n",
    "plt.xlabel('lat')\n",
    "plt.ylabel('long')\n",
    "plt.show()"
   ]
  },
  {
   "cell_type": "code",
   "execution_count": 2,
   "metadata": {},
   "outputs": [],
   "source": [
    "from scipy.interpolate import interp1d\n",
    "from scipy.interpolate import interp2d\n",
    "from scipy.integrate import quad\n",
    "from scipy.integrate import solve_ivp"
   ]
  },
  {
   "cell_type": "code",
   "execution_count": 24,
   "metadata": {},
   "outputs": [
    {
     "data": {
      "text/plain": [
       "<scipy.interpolate._interpolate.interp1d at 0x12dd80c1fd0>"
      ]
     },
     "execution_count": 24,
     "metadata": {},
     "output_type": "execute_result"
    }
   ],
   "source": [
    "S_f = interp1d(x, y, 'cubic')\n",
    "S_f"
   ]
  },
  {
   "cell_type": "code",
   "execution_count": 55,
   "metadata": {},
   "outputs": [
    {
     "data": {
      "text/plain": [
       "60"
      ]
     },
     "execution_count": 55,
     "metadata": {},
     "output_type": "execute_result"
    }
   ],
   "source": [
    "numerator = quad(lambda E: E*S_f(E), min(x), max(x))[0]\n",
    "denominator = quad(lambda E: S_f(E), min(x), max(x))[0]\n",
    "E_mean = numerator/denominator\n",
    "E_mean\n",
    "len(x)"
   ]
  },
  {
   "cell_type": "code",
   "execution_count": 155,
   "metadata": {},
   "outputs": [],
   "source": [
    "m_f = interp1d(x, y, 'cubic')\n",
    "dmdt_f = m_f._spline.derivative(nu=1)\n",
    "t = np.linspace(min(x),max(x),2*len(df[['lat', 'long']][df['id'] == 3]))\n",
    "m = m_f(t)\n",
    "dmdt = dmdt_f(t)"
   ]
  },
  {
   "cell_type": "code",
   "execution_count": 82,
   "metadata": {},
   "outputs": [],
   "source": [
    "def get_bearing(lat1, long1, lat2, long2 ):\n",
    "    brng = Geodesic.WGS84.Inverse(round(lat1, 7), round(long1, 7), round(lat2, 7), round(long2, 7))['azi1']\n",
    "    return brng"
   ]
  },
  {
   "cell_type": "code",
   "execution_count": 156,
   "metadata": {},
   "outputs": [
    {
     "data": {
      "text/plain": [
       "[<matplotlib.lines.Line2D at 0x1af834ef910>]"
      ]
     },
     "execution_count": 156,
     "metadata": {},
     "output_type": "execute_result"
    },
    {
     "data": {
      "image/png": "[encoded data removed]",
      "text/plain": [
       "<Figure size 640x480 with 1 Axes>"
      ]
     },
     "metadata": {},
     "output_type": "display_data"
    }
   ],
   "source": [
    "plt.scatter(x, y)\n",
    "plt.plot(t, m)\n",
    "# (t, m)"
   ]
  },
  {
   "cell_type": "code",
   "execution_count": 157,
   "metadata": {},
   "outputs": [
    {
     "name": "stderr",
     "output_type": "stream",
     "text": [
      "C:\\Users\\vital\\AppData\\Local\\Temp\\ipykernel_10088\\263657205.py:8: SettingWithCopyWarning: \n",
      "A value is trying to be set on a copy of a slice from a DataFrame.\n",
      "Try using .loc[row_indexer,col_indexer] = value instead\n",
      "\n",
      "See the caveats in the documentation: https://pandas.pydata.org/pandas-docs/stable/user_guide/indexing.html#returning-a-view-versus-a-copy\n",
      "  df[['azimuth']][df['id'] == 3] = pd.DataFrame(to_pd)\n",
      "C:\\Users\\vital\\AppData\\Local\\Temp\\ipykernel_10088\\263657205.py:8: SettingWithCopyWarning: \n",
      "A value is trying to be set on a copy of a slice from a DataFrame\n",
      "\n",
      "See the caveats in the documentation: https://pandas.pydata.org/pandas-docs/stable/user_guide/indexing.html#returning-a-view-versus-a-copy\n",
      "  df[['azimuth']][df['id'] == 3] = pd.DataFrame(to_pd)\n"
     ]
    },
    {
     "data": {
      "text/plain": [
       "(        azimuth\n",
       " 3     30.062003\n",
       " 12     8.233469\n",
       " 21    10.919984\n",
       " 30    16.140290\n",
       " 40   180.000000\n",
       " 49    16.140292\n",
       " 58     8.233472\n",
       " 68    21.099753\n",
       " 77     8.233474\n",
       " 86    37.658302\n",
       " 95    16.140299\n",
       " 103   10.919992\n",
       " 112   16.140303\n",
       " 120    0.000000\n",
       " 128   23.465476\n",
       " 136    8.233479\n",
       " 144   21.099770\n",
       " 152    8.233481\n",
       " 160   23.465484\n",
       " 168   10.920000\n",
       " 176   35.885508\n",
       " 184   16.140316\n",
       " 192   10.920003\n",
       " 200   21.099782\n",
       " 208    8.233486\n",
       " 216   16.140321\n",
       " 224   10.920007\n",
       " 233   37.658348\n",
       " 242  -30.062066\n",
       " 251   13.931323\n",
       " 260   23.465506\n",
       " 268    8.233491\n",
       " 276   45.366972\n",
       " 284   16.140332\n",
       " 292   16.140334\n",
       " 300    8.233494\n",
       " 308   10.920017\n",
       " 316    0.000000\n",
       " 324    0.000000\n",
       " 332    0.000000,\n",
       " 40,\n",
       " 40)"
      ]
     },
     "execution_count": 157,
     "metadata": {},
     "output_type": "execute_result"
    }
   ],
   "source": [
    "bearing = []\n",
    "for i in range(len(t)-1):\n",
    "    bearing.append(get_bearing(t[i], m[i], t[i+1], m[i+1]))\n",
    "to_pd = []\n",
    "for i in range(0, len(t)-1, 2):\n",
    "    to_pd.append(bearing[i])\n",
    "\n",
    "df[['azimuth']][df['id'] == 3] = pd.DataFrame(to_pd)\n",
    "df[['azimuth']][df['id'] == 3], len(df[['azimuth']][df['id'] == 3].dropna()), len(to_pd)"
   ]
  },
  {
   "cell_type": "code",
   "execution_count": 42,
   "metadata": {},
   "outputs": [
    {
     "data": {
      "text/plain": [
       "11"
      ]
     },
     "execution_count": 42,
     "metadata": {},
     "output_type": "execute_result"
    }
   ],
   "source": [
    "m_f = interp1d(x, y, 'cubic')\n",
    "dmdt_f = m_f._spline.derivative(nu=1)\n",
    "t = np.linspace(min(x),max(x),100)\n",
    "m = m_f(t)\n",
    "dmdt = dmdt_f(t)"
   ]
  },
  {
   "cell_type": "code",
   "execution_count": 101,
   "metadata": {},
   "outputs": [
    {
     "name": "stderr",
     "output_type": "stream",
     "text": [
      "C:\\Users\\vital\\AppData\\Local\\Temp\\ipykernel_10088\\39358804.py:1: SettingWithCopyWarning: \n",
      "A value is trying to be set on a copy of a slice from a DataFrame.\n",
      "Try using .loc[row_indexer,col_indexer] = value instead\n",
      "\n",
      "See the caveats in the documentation: https://pandas.pydata.org/pandas-docs/stable/user_guide/indexing.html#returning-a-view-versus-a-copy\n",
      "  df[['lat', 'long']][df['id'] == 2] = df[['lat', 'long']][df['id'] == 2].interpolate(method='polynomial', order=2)\n",
      "C:\\Users\\vital\\AppData\\Local\\Temp\\ipykernel_10088\\39358804.py:1: SettingWithCopyWarning: \n",
      "A value is trying to be set on a copy of a slice from a DataFrame\n",
      "\n",
      "See the caveats in the documentation: https://pandas.pydata.org/pandas-docs/stable/user_guide/indexing.html#returning-a-view-versus-a-copy\n",
      "  df[['lat', 'long']][df['id'] == 2] = df[['lat', 'long']][df['id'] == 2].interpolate(method='polynomial', order=2)\n"
     ]
    },
    {
     "data": {
      "text/plain": [
       "[1.7919860444332354,\n",
       " 19.362071636253663,\n",
       " 16.84393186171144,\n",
       " 180.0,\n",
       " 24.65724229082553,\n",
       " 10.183227768561359,\n",
       " 21.647551096780397,\n",
       " 32.65212499693862,\n",
       " 8.233487479938079,\n",
       " 8.233486754013501,\n",
       " 16.542122764976888,\n",
       " 10.538896333004024,\n",
       " 8.495263980652545,\n",
       " 21.698680369799774,\n",
       " 20.82436480927732,\n",
       " 17.22703092866742,\n",
       " 14.324418862093065,\n",
       " 13.405081552654272,\n",
       " 14.739849051574115,\n",
       " 25.48501697534355,\n",
       " 15.179513027697293,\n",
       " 16.70533118603744,\n",
       " 6.007432954152742,\n",
       " 28.31924100294978,\n",
       " 16.942242503161573,\n",
       " 19.887418178992426,\n",
       " 12.352938303664843,\n",
       " 0.0,\n",
       " 20.306937286983434,\n",
       " 10.919987300518244,\n",
       " 21.099750061446773,\n",
       " 0.0,\n",
       " 29.27965010398129,\n",
       " 0.8726289284766731,\n",
       " 15.041509992171218,\n",
       " 13.468696799760114,\n",
       " 25.74933141967184,\n",
       " 13.643002134651008,\n",
       " 27.678448396788323,\n",
       " 11.885596161280931,\n",
       " 23.928869510206844,\n",
       " 0.0,\n",
       " 15.725910749647765,\n",
       " 19.47905801378029,\n",
       " 30.061987963522643,\n",
       " 16.63257972276026,\n",
       " 8.586212110153454,\n",
       " 17.253339337830592,\n",
       " 17.658168095562512,\n",
       " 16.140270085863282,\n",
       " -11.605925810428355,\n",
       " 14.051827784217313,\n",
       " 9.661037802948934,\n",
       " 21.93162851581283,\n",
       " 6.474730135484436,\n",
       " 31.319460214121996,\n",
       " 13.205320104178844,\n",
       " 6.351241837741456,\n",
       " 21.647466087749468,\n",
       " 180.0,\n",
       " 4.24381104428512]"
      ]
     },
     "execution_count": 101,
     "metadata": {},
     "output_type": "execute_result"
    }
   ],
   "source": [
    "df[['lat', 'long']][df['id'] == 2] = df[['lat', 'long']][df['id'] == 2].interpolate(method='polynomial', order=2)\n",
    "bearing = []\n",
    "for i in range(len(df[['lat', 'long']][df['id'] == 2])-1):\n",
    "    bearing.append(get_bearing(float(df[['lat']][df['id'] == 2].iloc[i]), float(df[['long']][df['id'] == 2].iloc[i]), \n",
    "                               float(df[['lat']][df['id'] == 2].iloc[i+1]), float(df[['long']][df['id'] == 2].iloc[i+1])))\n",
    "bearing"
   ]
  },
  {
   "cell_type": "code",
   "execution_count": 53,
   "metadata": {},
   "outputs": [
    {
     "data": {
      "text/plain": [
       "54.72525566369869"
      ]
     },
     "execution_count": 53,
     "metadata": {},
     "output_type": "execute_result"
    }
   ],
   "source": [
    "float(df[['lat']][df['id'] == 2].iloc[0])"
   ]
  },
  {
   "cell_type": "code",
   "execution_count": 57,
   "metadata": {},
   "outputs": [
    {
     "name": "stderr",
     "output_type": "stream",
     "text": [
      "C:\\Users\\vital\\AppData\\Local\\Temp\\ipykernel_10088\\3977407600.py:1: SettingWithCopyWarning: \n",
      "A value is trying to be set on a copy of a slice from a DataFrame.\n",
      "Try using .loc[row_indexer,col_indexer] = value instead\n",
      "\n",
      "See the caveats in the documentation: https://pandas.pydata.org/pandas-docs/stable/user_guide/indexing.html#returning-a-view-versus-a-copy\n",
      "  df[['lat', 'long']][df['id'] == 2] = df[['lat', 'long']][df['id'] == 2].interpolate(method='polynomial', order=2)\n",
      "C:\\Users\\vital\\AppData\\Local\\Temp\\ipykernel_10088\\3977407600.py:1: SettingWithCopyWarning: \n",
      "A value is trying to be set on a copy of a slice from a DataFrame\n",
      "\n",
      "See the caveats in the documentation: https://pandas.pydata.org/pandas-docs/stable/user_guide/indexing.html#returning-a-view-versus-a-copy\n",
      "  df[['lat', 'long']][df['id'] == 2] = df[['lat', 'long']][df['id'] == 2].interpolate(method='polynomial', order=2)\n"
     ]
    },
    {
     "data": {
      "text/html": [
       "<div>\n",
       "<style scoped>\n",
       "    .dataframe tbody tr th:only-of-type {\n",
       "        vertical-align: middle;\n",
       "    }\n",
       "\n",
       "    .dataframe tbody tr th {\n",
       "        vertical-align: top;\n",
       "    }\n",
       "\n",
       "    .dataframe thead th {\n",
       "        text-align: right;\n",
       "    }\n",
       "</style>\n",
       "<table border=\"1\" class=\"dataframe\">\n",
       "  <thead>\n",
       "    <tr style=\"text-align: right;\">\n",
       "      <th></th>\n",
       "      <th>frame</th>\n",
       "      <th>id</th>\n",
       "      <th>x</th>\n",
       "      <th>y</th>\n",
       "      <th>lat</th>\n",
       "      <th>long</th>\n",
       "      <th>class</th>\n",
       "      <th>speed</th>\n",
       "      <th>lane</th>\n",
       "      <th>azimuth</th>\n",
       "    </tr>\n",
       "  </thead>\n",
       "  <tbody>\n",
       "    <tr>\n",
       "      <th>0</th>\n",
       "      <td>2</td>\n",
       "      <td>0</td>\n",
       "      <td>810</td>\n",
       "      <td>432</td>\n",
       "      <td>54.725260</td>\n",
       "      <td>55.940512</td>\n",
       "      <td>car</td>\n",
       "      <td>44.292206</td>\n",
       "      <td>4</td>\n",
       "      <td>16.140330</td>\n",
       "    </tr>\n",
       "    <tr>\n",
       "      <th>1</th>\n",
       "      <td>2</td>\n",
       "      <td>1</td>\n",
       "      <td>1250</td>\n",
       "      <td>656</td>\n",
       "      <td>54.725421</td>\n",
       "      <td>55.940728</td>\n",
       "      <td>car</td>\n",
       "      <td>39.667008</td>\n",
       "      <td>2</td>\n",
       "      <td>-163.859728</td>\n",
       "    </tr>\n",
       "    <tr>\n",
       "      <th>2</th>\n",
       "      <td>2</td>\n",
       "      <td>2</td>\n",
       "      <td>739</td>\n",
       "      <td>641</td>\n",
       "      <td>54.725256</td>\n",
       "      <td>55.940708</td>\n",
       "      <td>car</td>\n",
       "      <td>33.812618</td>\n",
       "      <td>1</td>\n",
       "      <td>-171.766506</td>\n",
       "    </tr>\n",
       "    <tr>\n",
       "      <th>3</th>\n",
       "      <td>2</td>\n",
       "      <td>3</td>\n",
       "      <td>1092</td>\n",
       "      <td>536</td>\n",
       "      <td>54.725376</td>\n",
       "      <td>55.940635</td>\n",
       "      <td>car</td>\n",
       "      <td>46.369826</td>\n",
       "      <td>3</td>\n",
       "      <td>30.062003</td>\n",
       "    </tr>\n",
       "    <tr>\n",
       "      <th>4</th>\n",
       "      <td>2</td>\n",
       "      <td>4</td>\n",
       "      <td>1392</td>\n",
       "      <td>519</td>\n",
       "      <td>54.725472</td>\n",
       "      <td>55.940633</td>\n",
       "      <td>car</td>\n",
       "      <td>29.218250</td>\n",
       "      <td>4</td>\n",
       "      <td>70.937569</td>\n",
       "    </tr>\n",
       "    <tr>\n",
       "      <th>...</th>\n",
       "      <td>...</td>\n",
       "      <td>...</td>\n",
       "      <td>...</td>\n",
       "      <td>...</td>\n",
       "      <td>...</td>\n",
       "      <td>...</td>\n",
       "      <td>...</td>\n",
       "      <td>...</td>\n",
       "      <td>...</td>\n",
       "      <td>...</td>\n",
       "    </tr>\n",
       "    <tr>\n",
       "      <th>995</th>\n",
       "      <td>223</td>\n",
       "      <td>29</td>\n",
       "      <td>1403</td>\n",
       "      <td>511</td>\n",
       "      <td>54.725476</td>\n",
       "      <td>55.940627</td>\n",
       "      <td>car</td>\n",
       "      <td>36.317290</td>\n",
       "      <td>4</td>\n",
       "      <td>60.061864</td>\n",
       "    </tr>\n",
       "    <tr>\n",
       "      <th>996</th>\n",
       "      <td>224</td>\n",
       "      <td>27</td>\n",
       "      <td>1006</td>\n",
       "      <td>463</td>\n",
       "      <td>54.725344</td>\n",
       "      <td>55.940562</td>\n",
       "      <td>car</td>\n",
       "      <td>42.426407</td>\n",
       "      <td>4</td>\n",
       "      <td>23.465466</td>\n",
       "    </tr>\n",
       "    <tr>\n",
       "      <th>997</th>\n",
       "      <td>224</td>\n",
       "      <td>29</td>\n",
       "      <td>1383</td>\n",
       "      <td>512</td>\n",
       "      <td>54.725470</td>\n",
       "      <td>55.940627</td>\n",
       "      <td>car</td>\n",
       "      <td>60.107877</td>\n",
       "      <td>4</td>\n",
       "      <td>0.000000</td>\n",
       "    </tr>\n",
       "    <tr>\n",
       "      <th>998</th>\n",
       "      <td>225</td>\n",
       "      <td>27</td>\n",
       "      <td>997</td>\n",
       "      <td>462</td>\n",
       "      <td>54.725341</td>\n",
       "      <td>55.940561</td>\n",
       "      <td>car</td>\n",
       "      <td>36.754705</td>\n",
       "      <td>4</td>\n",
       "      <td>10.919991</td>\n",
       "    </tr>\n",
       "    <tr>\n",
       "      <th>999</th>\n",
       "      <td>225</td>\n",
       "      <td>29</td>\n",
       "      <td>1374</td>\n",
       "      <td>513</td>\n",
       "      <td>54.725467</td>\n",
       "      <td>55.940628</td>\n",
       "      <td>car</td>\n",
       "      <td>27.826287</td>\n",
       "      <td>4</td>\n",
       "      <td>-10.919958</td>\n",
       "    </tr>\n",
       "  </tbody>\n",
       "</table>\n",
       "<p>1000 rows × 10 columns</p>\n",
       "</div>"
      ],
      "text/plain": [
       "     frame  id     x    y        lat       long class      speed  lane  \\\n",
       "0        2   0   810  432  54.725260  55.940512   car  44.292206     4   \n",
       "1        2   1  1250  656  54.725421  55.940728   car  39.667008     2   \n",
       "2        2   2   739  641  54.725256  55.940708   car  33.812618     1   \n",
       "3        2   3  1092  536  54.725376  55.940635   car  46.369826     3   \n",
       "4        2   4  1392  519  54.725472  55.940633   car  29.218250     4   \n",
       "..     ...  ..   ...  ...        ...        ...   ...        ...   ...   \n",
       "995    223  29  1403  511  54.725476  55.940627   car  36.317290     4   \n",
       "996    224  27  1006  463  54.725344  55.940562   car  42.426407     4   \n",
       "997    224  29  1383  512  54.725470  55.940627   car  60.107877     4   \n",
       "998    225  27   997  462  54.725341  55.940561   car  36.754705     4   \n",
       "999    225  29  1374  513  54.725467  55.940628   car  27.826287     4   \n",
       "\n",
       "        azimuth  \n",
       "0     16.140330  \n",
       "1   -163.859728  \n",
       "2   -171.766506  \n",
       "3     30.062003  \n",
       "4     70.937569  \n",
       "..          ...  \n",
       "995   60.061864  \n",
       "996   23.465466  \n",
       "997    0.000000  \n",
       "998   10.919991  \n",
       "999  -10.919958  \n",
       "\n",
       "[1000 rows x 10 columns]"
      ]
     },
     "execution_count": 57,
     "metadata": {},
     "output_type": "execute_result"
    }
   ],
   "source": [
    "df[['lat', 'long']][df['id'] == 2] = df[['lat', 'long']][df['id'] == 2].interpolate(method='polynomial', order=2)\n",
    "df"
   ]
  },
  {
   "cell_type": "code",
   "execution_count": 87,
   "metadata": {},
   "outputs": [
    {
     "data": {
      "text/plain": [
       "[<matplotlib.lines.Line2D at 0x1af819cd780>]"
      ]
     },
     "execution_count": 87,
     "metadata": {},
     "output_type": "execute_result"
    },
    {
     "data": {
      "image/png": "[encoded data removed]",
      "text/plain": [
       "<Figure size 640x480 with 1 Axes>"
      ]
     },
     "metadata": {},
     "output_type": "display_data"
    }
   ],
   "source": [
    "plt.scatter(df[['lat']][df['id'] == 2], df[['long']][df['id'] == 2])\n",
    "plt.plot(df[['lat']][df['id'] == 2].interpolate(method='nearest', order=2), \n",
    "         df[['long']][df['id'] == 2].interpolate(method='nearest', order=2))"
   ]
  },
  {
   "cell_type": "code",
   "execution_count": 110,
   "metadata": {},
   "outputs": [
    {
     "data": {
      "text/html": [
       "<div>\n",
       "<style scoped>\n",
       "    .dataframe tbody tr th:only-of-type {\n",
       "        vertical-align: middle;\n",
       "    }\n",
       "\n",
       "    .dataframe tbody tr th {\n",
       "        vertical-align: top;\n",
       "    }\n",
       "\n",
       "    .dataframe thead th {\n",
       "        text-align: right;\n",
       "    }\n",
       "</style>\n",
       "<table border=\"1\" class=\"dataframe\">\n",
       "  <thead>\n",
       "    <tr style=\"text-align: right;\">\n",
       "      <th></th>\n",
       "      <th>a</th>\n",
       "      <th>b</th>\n",
       "      <th>c</th>\n",
       "      <th>d</th>\n",
       "    </tr>\n",
       "  </thead>\n",
       "  <tbody>\n",
       "    <tr>\n",
       "      <th>0</th>\n",
       "      <td>0.0</td>\n",
       "      <td>1.0</td>\n",
       "      <td>-1.0</td>\n",
       "      <td>1.0</td>\n",
       "    </tr>\n",
       "    <tr>\n",
       "      <th>1</th>\n",
       "      <td>1.0</td>\n",
       "      <td>2.0</td>\n",
       "      <td>2.0</td>\n",
       "      <td>3.0</td>\n",
       "    </tr>\n",
       "    <tr>\n",
       "      <th>2</th>\n",
       "      <td>2.0</td>\n",
       "      <td>3.0</td>\n",
       "      <td>4.0</td>\n",
       "      <td>9.0</td>\n",
       "    </tr>\n",
       "    <tr>\n",
       "      <th>3</th>\n",
       "      <td>1.0</td>\n",
       "      <td>4.0</td>\n",
       "      <td>-4.0</td>\n",
       "      <td>16.0</td>\n",
       "    </tr>\n",
       "  </tbody>\n",
       "</table>\n",
       "</div>"
      ],
      "text/plain": [
       "     a    b    c     d\n",
       "0  0.0  1.0 -1.0   1.0\n",
       "1  1.0  2.0  2.0   3.0\n",
       "2  2.0  3.0  4.0   9.0\n",
       "3  1.0  4.0 -4.0  16.0"
      ]
     },
     "execution_count": 110,
     "metadata": {},
     "output_type": "execute_result"
    }
   ],
   "source": [
    "data = pd.DataFrame([(0.0, 1, -1.0, 1.0),\n",
    "                   (1, 2.0, 2, 3),\n",
    "                   (2.0, 3.0, 4, 9.0),\n",
    "                   (1, 4.0, -4.0, 16.0)],\n",
    "                  columns=list('abcd'))\n",
    "data.interpolate(method='polynomial', order=2) "
   ]
  },
  {
   "cell_type": "code",
   "execution_count": 160,
   "metadata": {},
   "outputs": [
    {
     "data": {
      "text/plain": [
       "3       30.062003\n",
       "12       8.233469\n",
       "21      10.919984\n",
       "30      16.140290\n",
       "40     180.000000\n",
       "49      16.140292\n",
       "58       8.233472\n",
       "68      21.099753\n",
       "77       8.233474\n",
       "86      37.658302\n",
       "95      16.140299\n",
       "103     10.919992\n",
       "112     16.140303\n",
       "120      0.000000\n",
       "128     23.465476\n",
       "136      8.233479\n",
       "144     21.099770\n",
       "152      8.233481\n",
       "160     23.465484\n",
       "168     10.920000\n",
       "176     35.885508\n",
       "184     16.140316\n",
       "192     10.920003\n",
       "200     21.099782\n",
       "208      8.233486\n",
       "216     16.140321\n",
       "224     10.920007\n",
       "233     37.658348\n",
       "242    -30.062066\n",
       "251     13.931323\n",
       "260     23.465506\n",
       "268      8.233491\n",
       "276     45.366972\n",
       "284     16.140332\n",
       "292     16.140334\n",
       "300      8.233494\n",
       "308     10.920017\n",
       "316      0.000000\n",
       "324      0.000000\n",
       "332      0.000000\n",
       "Name: azimuth, dtype: float64"
      ]
     },
     "execution_count": 160,
     "metadata": {},
     "output_type": "execute_result"
    }
   ],
   "source": [
    "df = pd.read_csv('out.csv')\n",
    "df['azimuth'][df['id'] == 3]"
   ]
  }
 ],
 "metadata": {
  "kernelspec": {
   "display_name": "Python 3",
   "language": "python",
   "name": "python3"
  },
  "language_info": {
   "codemirror_mode": {
    "name": "ipython",
    "version": 3
   },
   "file_extension": ".py",
   "mimetype": "text/x-python",
   "name": "python",
   "nbconvert_exporter": "python",
   "pygments_lexer": "ipython3",
   "version": "3.10.5"
  },
  "orig_nbformat": 4
 },
 "nbformat": 4,
 "nbformat_minor": 2
}
