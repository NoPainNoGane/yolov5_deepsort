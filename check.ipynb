{
 "cells": [
  {
   "cell_type": "code",
   "execution_count": 1,
   "metadata": {},
   "outputs": [],
   "source": [
    "import numpy as np\n",
    "import scipy.interpolate as interp\n",
    "\n",
    "def interpolate_polyline(polyline, num_points):\n",
    "    duplicates = []\n",
    "    for i in range(1, len(polyline)):\n",
    "        if np.allclose(polyline[i], polyline[i-1]):\n",
    "            duplicates.append(i)\n",
    "    if duplicates:\n",
    "        polyline = np.delete(polyline, duplicates, axis=0)\n",
    "    tck, u = interp.splprep(polyline.T, s=0)\n",
    "    u = np.linspace(0.0, 1.0, num_points)\n",
    "    return np.column_stack(interp.splev(u, tck))"
   ]
  },
  {
   "cell_type": "code",
   "execution_count": 6,
   "metadata": {},
   "outputs": [
    {
     "ename": "ValueError",
     "evalue": "not enough values to unpack (expected 2, got 1)",
     "output_type": "error",
     "traceback": [
      "\u001b[1;31m---------------------------------------------------------------------------\u001b[0m",
      "\u001b[1;31mValueError\u001b[0m                                Traceback (most recent call last)",
      "\u001b[1;32me:\\yolov5_v2\\yolov5\\check.ipynb Cell 2\u001b[0m line \u001b[0;36m1\n\u001b[1;32m----> <a href='vscode-notebook-cell:/e%3A/yolov5_v2/yolov5/check.ipynb#W1sZmlsZQ%3D%3D?line=0'>1</a>\u001b[0m interpolate_polyline(np\u001b[39m.\u001b[39;49marray([\u001b[39m54.72534491306931\u001b[39;49m, \u001b[39m55.94083790905259\u001b[39;49m, \u001b[39m54.72534489661149\u001b[39;49m, \u001b[39m55.94083741111973\u001b[39;49m]), \u001b[39m2\u001b[39;49m)\n",
      "\u001b[1;32me:\\yolov5_v2\\yolov5\\check.ipynb Cell 2\u001b[0m line \u001b[0;36m1\n\u001b[0;32m      <a href='vscode-notebook-cell:/e%3A/yolov5_v2/yolov5/check.ipynb#W1sZmlsZQ%3D%3D?line=8'>9</a>\u001b[0m \u001b[39mif\u001b[39;00m duplicates:\n\u001b[0;32m     <a href='vscode-notebook-cell:/e%3A/yolov5_v2/yolov5/check.ipynb#W1sZmlsZQ%3D%3D?line=9'>10</a>\u001b[0m     polyline \u001b[39m=\u001b[39m np\u001b[39m.\u001b[39mdelete(polyline, duplicates, axis\u001b[39m=\u001b[39m\u001b[39m0\u001b[39m)\n\u001b[1;32m---> <a href='vscode-notebook-cell:/e%3A/yolov5_v2/yolov5/check.ipynb#W1sZmlsZQ%3D%3D?line=10'>11</a>\u001b[0m tck, u \u001b[39m=\u001b[39m interp\u001b[39m.\u001b[39;49msplprep(polyline\u001b[39m.\u001b[39;49mT, s\u001b[39m=\u001b[39;49m\u001b[39m0\u001b[39;49m)\n\u001b[0;32m     <a href='vscode-notebook-cell:/e%3A/yolov5_v2/yolov5/check.ipynb#W1sZmlsZQ%3D%3D?line=11'>12</a>\u001b[0m u \u001b[39m=\u001b[39m np\u001b[39m.\u001b[39mlinspace(\u001b[39m0.0\u001b[39m, \u001b[39m1.0\u001b[39m, num_points)\n\u001b[0;32m     <a href='vscode-notebook-cell:/e%3A/yolov5_v2/yolov5/check.ipynb#W1sZmlsZQ%3D%3D?line=12'>13</a>\u001b[0m \u001b[39mreturn\u001b[39;00m np\u001b[39m.\u001b[39mcolumn_stack(interp\u001b[39m.\u001b[39msplev(u, tck))\n",
      "File \u001b[1;32mc:\\Users\\vital\\AppData\\Local\\Programs\\Python\\Python310\\lib\\site-packages\\scipy\\interpolate\\_fitpack_py.py:153\u001b[0m, in \u001b[0;36msplprep\u001b[1;34m(x, w, u, ub, ue, k, task, s, t, full_output, nest, per, quiet)\u001b[0m\n\u001b[0;32m     13\u001b[0m \u001b[39mdef\u001b[39;00m \u001b[39msplprep\u001b[39m(x, w\u001b[39m=\u001b[39m\u001b[39mNone\u001b[39;00m, u\u001b[39m=\u001b[39m\u001b[39mNone\u001b[39;00m, ub\u001b[39m=\u001b[39m\u001b[39mNone\u001b[39;00m, ue\u001b[39m=\u001b[39m\u001b[39mNone\u001b[39;00m, k\u001b[39m=\u001b[39m\u001b[39m3\u001b[39m, task\u001b[39m=\u001b[39m\u001b[39m0\u001b[39m, s\u001b[39m=\u001b[39m\u001b[39mNone\u001b[39;00m, t\u001b[39m=\u001b[39m\u001b[39mNone\u001b[39;00m,\n\u001b[0;32m     14\u001b[0m             full_output\u001b[39m=\u001b[39m\u001b[39m0\u001b[39m, nest\u001b[39m=\u001b[39m\u001b[39mNone\u001b[39;00m, per\u001b[39m=\u001b[39m\u001b[39m0\u001b[39m, quiet\u001b[39m=\u001b[39m\u001b[39m1\u001b[39m):\n\u001b[0;32m     15\u001b[0m \u001b[39m    \u001b[39m\u001b[39m\"\"\"\u001b[39;00m\n\u001b[0;32m     16\u001b[0m \u001b[39m    Find the B-spline representation of an N-D curve.\u001b[39;00m\n\u001b[0;32m     17\u001b[0m \n\u001b[1;32m   (...)\u001b[0m\n\u001b[0;32m    151\u001b[0m \n\u001b[0;32m    152\u001b[0m \u001b[39m    \"\"\"\u001b[39;00m\n\u001b[1;32m--> 153\u001b[0m     res \u001b[39m=\u001b[39m _impl\u001b[39m.\u001b[39;49msplprep(x, w, u, ub, ue, k, task, s, t, full_output, nest, per,\n\u001b[0;32m    154\u001b[0m                         quiet)\n\u001b[0;32m    155\u001b[0m     \u001b[39mreturn\u001b[39;00m res\n",
      "File \u001b[1;32mc:\\Users\\vital\\AppData\\Local\\Programs\\Python\\Python310\\lib\\site-packages\\scipy\\interpolate\\_fitpack_impl.py:219\u001b[0m, in \u001b[0;36msplprep\u001b[1;34m(x, w, u, ub, ue, k, task, s, t, full_output, nest, per, quiet)\u001b[0m\n\u001b[0;32m    215\u001b[0m     _parcur_cache \u001b[39m=\u001b[39m {\u001b[39m'\u001b[39m\u001b[39mt\u001b[39m\u001b[39m'\u001b[39m: array([], \u001b[39mfloat\u001b[39m), \u001b[39m'\u001b[39m\u001b[39mwrk\u001b[39m\u001b[39m'\u001b[39m: array([], \u001b[39mfloat\u001b[39m),\n\u001b[0;32m    216\u001b[0m                      \u001b[39m'\u001b[39m\u001b[39miwrk\u001b[39m\u001b[39m'\u001b[39m: array([], dfitpack_int), \u001b[39m'\u001b[39m\u001b[39mu\u001b[39m\u001b[39m'\u001b[39m: array([], \u001b[39mfloat\u001b[39m),\n\u001b[0;32m    217\u001b[0m                      \u001b[39m'\u001b[39m\u001b[39mub\u001b[39m\u001b[39m'\u001b[39m: \u001b[39m0\u001b[39m, \u001b[39m'\u001b[39m\u001b[39mue\u001b[39m\u001b[39m'\u001b[39m: \u001b[39m1\u001b[39m}\n\u001b[0;32m    218\u001b[0m x \u001b[39m=\u001b[39m atleast_1d(x)\n\u001b[1;32m--> 219\u001b[0m idim, m \u001b[39m=\u001b[39m x\u001b[39m.\u001b[39mshape\n\u001b[0;32m    220\u001b[0m \u001b[39mif\u001b[39;00m per:\n\u001b[0;32m    221\u001b[0m     \u001b[39mfor\u001b[39;00m i \u001b[39min\u001b[39;00m \u001b[39mrange\u001b[39m(idim):\n",
      "\u001b[1;31mValueError\u001b[0m: not enough values to unpack (expected 2, got 1)"
     ]
    }
   ],
   "source": [
    "interpolate_polyline(np.array([54.72534491306931, 55.94083790905259, 54.72534489661149, 55.94083741111973]), 2)"
   ]
  },
  {
   "cell_type": "code",
   "execution_count": null,
   "metadata": {},
   "outputs": [],
   "source": []
  }
 ],
 "metadata": {
  "kernelspec": {
   "display_name": "Python 3",
   "language": "python",
   "name": "python3"
  },
  "language_info": {
   "codemirror_mode": {
    "name": "ipython",
    "version": 3
   },
   "file_extension": ".py",
   "mimetype": "text/x-python",
   "name": "python",
   "nbconvert_exporter": "python",
   "pygments_lexer": "ipython3",
   "version": "3.10.5"
  },
  "orig_nbformat": 4
 },
 "nbformat": 4,
 "nbformat_minor": 2
}
